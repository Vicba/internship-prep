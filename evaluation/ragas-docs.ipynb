{
 "cells": [
  {
   "cell_type": "code",
   "execution_count": 1,
   "id": "ff95398a-55da-4445-bcbf-a651cd919c85",
   "metadata": {},
   "outputs": [],
   "source": [
    "!pip install python-dotenv langchain pandas llama-index ragas --quiet"
   ]
  },
  {
   "cell_type": "code",
   "execution_count": 2,
   "id": "66d6b380-18b4-409a-8d84-9f29508a344e",
   "metadata": {},
   "outputs": [
    {
     "data": {
      "text/plain": [
       "True"
      ]
     },
     "execution_count": 2,
     "metadata": {},
     "output_type": "execute_result"
    }
   ],
   "source": [
    "from dotenv import load_dotenv\n",
    "\n",
    "load_dotenv()"
   ]
  },
  {
   "cell_type": "code",
   "execution_count": 3,
   "id": "baf7f926-d4cb-45c8-a790-29c0d1ac9ae1",
   "metadata": {},
   "outputs": [],
   "source": [
    "import os\n",
    "\n",
    "openai_api_key = os.getenv(\"OPENAI_API_KEY\")"
   ]
  },
  {
   "cell_type": "markdown",
   "id": "3a6c749f-55ad-4a95-b71f-9b2a7ddfc2da",
   "metadata": {},
   "source": [
    "# LLAMAINDEX"
   ]
  },
  {
   "cell_type": "code",
   "execution_count": 4,
   "id": "4b945f16-9225-4e07-a3af-e9d3bad47a09",
   "metadata": {},
   "outputs": [],
   "source": [
    "import nest_asyncio\n",
    "\n",
    "nest_asyncio.apply()"
   ]
  },
  {
   "cell_type": "code",
   "execution_count": 5,
   "id": "07ad8932-2951-4089-8095-70ebb8c7137f",
   "metadata": {},
   "outputs": [],
   "source": [
    "from llama_index import VectorStoreIndex, SimpleDirectoryReader, ServiceContext\n",
    "\n",
    "import pandas as pd"
   ]
  },
  {
   "cell_type": "code",
   "execution_count": 6,
   "id": "cf4ddb01-5605-46d2-b3ca-4489ea198eb0",
   "metadata": {},
   "outputs": [],
   "source": [
    "from llama_index import download_loader\n",
    "\n",
    "SimpleWebPageReader = download_loader(\"SimpleWebPageReader\")\n",
    "\n",
    "loader = SimpleWebPageReader()\n",
    "documents = loader.load_data(urls=['https://en.wikipedia.org/wiki/New_York_City'])"
   ]
  },
  {
   "cell_type": "code",
   "execution_count": 7,
   "id": "344191fb-fff0-4191-b666-340a1bfa466b",
   "metadata": {},
   "outputs": [],
   "source": [
    "vector_index = VectorStoreIndex.from_documents(\n",
    "    documents, service_context=ServiceContext.from_defaults(chunk_size=512)\n",
    ")\n",
    "\n",
    "query_engine = vector_index.as_query_engine()"
   ]
  },
  {
   "cell_type": "code",
   "execution_count": 8,
   "id": "b69437dd-9d6e-40e1-a55f-d97b09904e92",
   "metadata": {},
   "outputs": [
    {
     "name": "stdout",
     "output_type": "stream",
     "text": [
      "New York City got its name in honor of the Duke of York, who later became King James II of England. The city was originally named New Amsterdam when it was under Dutch control, but it was renamed New York after England seized the territory from the Dutch and granted it to the Duke of York.\n"
     ]
    }
   ],
   "source": [
    "response_vector = query_engine.query(\"How did New York City get its name?\")\n",
    "\n",
    "print(response_vector)"
   ]
  },
  {
   "cell_type": "code",
   "execution_count": 9,
   "id": "d5a95a07-0a56-46f8-9c59-0e39e6f39b00",
   "metadata": {},
   "outputs": [],
   "source": [
    "eval_questions = [\n",
    "    \"What is the population of New York City as of 2020?\",\n",
    "    \"Which borough of New York City has the highest population?\",\n",
    "    \"What is the economic significance of New York City?\",\n",
    "    \"How did New York City get its name?\",\n",
    "    \"What is the significance of the Statue of Liberty in New York City?\",\n",
    "]\n",
    "\n",
    "eval_answers = [\n",
    "    \"8,804,000\",  # incorrect answer\n",
    "    \"Queens\",  # incorrect answer\n",
    "    \"New York City's economic significance is vast, as it serves as the global financial capital, housing Wall Street and major financial institutions. Its diverse economy spans technology, media, healthcare, education, and more, making it resilient to economic fluctuations. NYC is a hub for international business, attracting global companies, and boasts a large, skilled labor force. Its real estate market, tourism, cultural industries, and educational institutions further fuel its economic prowess. The city's transportation network and global influence amplify its impact on the world stage, solidifying its status as a vital economic player and cultural epicenter.\",\n",
    "    \"New York City got its name when it came under British control in 1664. King Charles II of England granted the lands to his brother, the Duke of York, who named the city New York in his own honor.\",\n",
    "    \"The Statue of Liberty in New York City holds great significance as a symbol of the United States and its ideals of liberty and peace. It greeted millions of immigrants who arrived in the U.S. by ship in the late 19th and early 20th centuries, representing hope and freedom for those seeking a better life. It has since become an iconic landmark and a global symbol of cultural diversity and freedom.\",\n",
    "]\n",
    "\n",
    "eval_answers = [[a] for a in eval_answers]"
   ]
  },
  {
   "cell_type": "code",
   "execution_count": 10,
   "id": "d3f5718e-9d68-4867-a384-1435dbcd443d",
   "metadata": {},
   "outputs": [],
   "source": [
    "from ragas import evaluate\n",
    "from ragas.metrics import (\n",
    "    faithfulness,\n",
    "    answer_relevancy,\n",
    "    context_precision,\n",
    "    context_recall,\n",
    ")\n",
    "from ragas.metrics.critique import harmfulness\n",
    "\n",
    "metrics = [\n",
    "    faithfulness,\n",
    "    answer_relevancy,\n",
    "    context_precision,\n",
    "    context_recall,\n",
    "    harmfulness,\n",
    "]"
   ]
  },
  {
   "cell_type": "code",
   "execution_count": 17,
   "id": "8cc7a60b-467f-48a7-9d5c-d86b0f6e927a",
   "metadata": {},
   "outputs": [
    {
     "ename": "ModuleNotFoundError",
     "evalue": "No module named 'ragas.llama_index'",
     "output_type": "error",
     "traceback": [
      "\u001b[0;31m---------------------------------------------------------------------------\u001b[0m",
      "\u001b[0;31mModuleNotFoundError\u001b[0m                       Traceback (most recent call last)",
      "Cell \u001b[0;32mIn[17], line 1\u001b[0m\n\u001b[0;32m----> 1\u001b[0m \u001b[38;5;28;01mfrom\u001b[39;00m \u001b[38;5;21;01mragas\u001b[39;00m\u001b[38;5;21;01m.\u001b[39;00m\u001b[38;5;21;01mllama_index\u001b[39;00m \u001b[38;5;28;01mimport\u001b[39;00m evaluate\n\u001b[1;32m      2\u001b[0m result \u001b[38;5;241m=\u001b[39m evaluate(query_engine, metrics, eval_questions, eval_answers)\n",
      "\u001b[0;31mModuleNotFoundError\u001b[0m: No module named 'ragas.llama_index'"
     ]
    }
   ],
   "source": [
    "from ragas.llama_index import evaluate\n",
    "result = evaluate(query_engine, metrics, eval_questions, eval_answers)"
   ]
  },
  {
   "cell_type": "markdown",
   "id": "2c9c83b8-97c4-473c-8982-724153867cd0",
   "metadata": {},
   "source": [
    "WHUT ??? all docs say i need to use this\n",
    "https://docs.ragas.io/en/stable/howtos/integrations/llamaindex.html\n",
    "\n",
    "maybe format dataset"
   ]
  },
  {
   "cell_type": "code",
   "execution_count": null,
   "id": "1dd1d253-8b12-4568-9207-2408c26d836f",
   "metadata": {},
   "outputs": [],
   "source": [
    "print(result)\n",
    "result.to_pandas()"
   ]
  }
 ],
 "metadata": {
  "kernelspec": {
   "display_name": "Python 3 (ipykernel)",
   "language": "python",
   "name": "python3"
  },
  "language_info": {
   "codemirror_mode": {
    "name": "ipython",
    "version": 3
   },
   "file_extension": ".py",
   "mimetype": "text/x-python",
   "name": "python",
   "nbconvert_exporter": "python",
   "pygments_lexer": "ipython3",
   "version": "3.8.10"
  }
 },
 "nbformat": 4,
 "nbformat_minor": 5
}
